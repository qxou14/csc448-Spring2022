{
 "cells": [
  {
   "cell_type": "code",
   "execution_count": 1,
   "id": "d0b007a5",
   "metadata": {},
   "outputs": [
    {
     "name": "stdout",
     "output_type": "stream",
     "text": [
      "hello jupyter\n"
     ]
    }
   ],
   "source": [
    "print(\"hello jupyter\")"
   ]
  },
  {
   "cell_type": "markdown",
   "id": "dbac4b28",
   "metadata": {},
   "source": [
    "Use single _underscores_ or single \"asterisks\" to get italics"
   ]
  },
  {
   "cell_type": "markdown",
   "id": "89c9d973",
   "metadata": {},
   "source": [
    "Use single underscores or single *asterisks* to get italics"
   ]
  },
  {
   "cell_type": "markdown",
   "id": "03170fa3",
   "metadata": {},
   "source": [
    "# header \n",
    "## header \n",
    "### header "
   ]
  },
  {
   "cell_type": "markdown",
   "id": "603e776f",
   "metadata": {},
   "source": [
    "* item 1\n",
    "* item 2\n",
    "* item 3\n",
    "    * sub item 1"
   ]
  },
  {
   "cell_type": "code",
   "execution_count": null,
   "id": "f0de2fd3",
   "metadata": {},
   "outputs": [],
   "source": []
  }
 ],
 "metadata": {
  "kernelspec": {
   "display_name": "Python 3",
   "language": "python",
   "name": "python3"
  },
  "language_info": {
   "codemirror_mode": {
    "name": "ipython",
    "version": 3
   },
   "file_extension": ".py",
   "mimetype": "text/x-python",
   "name": "python",
   "nbconvert_exporter": "python",
   "pygments_lexer": "ipython3",
   "version": "3.9.5"
  }
 },
 "nbformat": 4,
 "nbformat_minor": 5
}
