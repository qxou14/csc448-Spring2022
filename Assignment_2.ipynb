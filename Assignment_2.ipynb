{
 "cells": [
  {
   "cell_type": "markdown",
   "id": "6e814eea",
   "metadata": {},
   "source": [
    "<a href=\\\"https://colab.research.google.com/github/qxou14/csc448-Spring2022/blob/main/Assignment_2.ipynb\" target=\\\"_parent\\\"><img src=\\\"https://colab.research.google.com/assets/colab-badge.svg\\\" alt=\\\"Open In Colab\\\"/></a>"
   ]
  },
  {
   "cell_type": "markdown",
   "id": "67f91d40",
   "metadata": {},
   "source": [
    "### Abstract\n",
    "\n",
    "In this assignment, I plan to write some of the search algorithms that I learned in class, particularly DFS and BFS. I plan to write these two search algorithms because these are the common interview topics and I've some experience implementing them while I was doing coding problems"
   ]
  },
  {
   "cell_type": "markdown",
   "id": "427586dc",
   "metadata": {},
   "source": [
    "### DFS:\n",
    "\n",
    "For DFS algorithms, I planned to implement it both recursively and iteratively as this is what we went over in the class"
   ]
  },
  {
   "cell_type": "markdown",
   "id": "516af3b0",
   "metadata": {},
   "source": [
    "### Recursion DFS"
   ]
  },
  {
   "cell_type": "code",
   "execution_count": 1,
   "id": "cb79b0c8",
   "metadata": {},
   "outputs": [],
   "source": [
    "visited = set()\n",
    "\n",
    "def dfs_rec(matrix,visited,r,c,ROW,COL):\n",
    "    #since it is a recursive approach, we will have a base case.\n",
    "    #this base case states that if we are out of range, or if we already visited the node, we stop\n",
    "    if r >= ROW or c >= COL or r < 0 or c < 0 or (r,c) in visited:\n",
    "        return\n",
    "    \n",
    "    #we add the node\n",
    "    visited.add((r,c))\n",
    "    print(matrix[r][c])\n",
    "    \n",
    "    #four directions\n",
    "    # down , up , right, left\n",
    "    dfs_rec(matrix,visited,r+1,c,ROW,COL)\n",
    "    dfs_rec(matrix,visited,r-1,c,ROW,COL)\n",
    "    dfs_rec(matrix,visited,r,c+1,ROW,COL)\n",
    "    dfs_rec(matrix,visited,r,c-1,ROW,COL)"
   ]
  },
  {
   "cell_type": "markdown",
   "id": "472922b6",
   "metadata": {},
   "source": [
    "Above is the code that I wrote for the DFS approch. It is very straightforward.  In this case, we don't need a stack to keep all the nodes becuase there will be a call stack for the recursive method.\n",
    "\n",
    "The parameter for this function will be matrix which is the graph that we will be searching, visited will be a set that we use to store all the visited node. (I use a set in this case because look up time for a set is constant). I also have r and c which represents the current row and current col that I am in. ROW and COL will be the range for the graph. \n",
    "\n",
    "----------------------\n"
   ]
  },
  {
   "cell_type": "markdown",
   "id": "2987b3f3",
   "metadata": {},
   "source": [
    "Every recursive function will have a base case which prevent the function from going forever. In my case, my base case will make sure the node is not out of range and have not been visited."
   ]
  },
  {
   "cell_type": "markdown",
   "id": "b9f8c692",
   "metadata": {},
   "source": [
    "dfs_rec(matrix,visited,r+1,c,ROW,COL)\n",
    "<br>\n",
    "dfs_rec(matrix,visited,r-1,c,ROW,COL)\n",
    "<br>\n",
    "dfs_rec(matrix,visited,r,c+1,ROW,COL)\n",
    "<br>\n",
    "dfs_rec(matrix,visited,r,c-1,ROW,COL)\n",
    "<br>\n",
    "\n",
    "The above code shows the directions that we are searching. In this case, down, up, right, left."
   ]
  },
  {
   "cell_type": "code",
   "execution_count": 2,
   "id": "55a304fd",
   "metadata": {},
   "outputs": [],
   "source": [
    "matrix = [\n",
    "    [1,2,3],\n",
    "    [4,5,6],\n",
    "    [7,8,9],\n",
    "]"
   ]
  },
  {
   "cell_type": "code",
   "execution_count": 3,
   "id": "fcb8343f",
   "metadata": {},
   "outputs": [
    {
     "name": "stdout",
     "output_type": "stream",
     "text": [
      "1\n",
      "4\n",
      "7\n",
      "8\n",
      "5\n",
      "2\n",
      "3\n",
      "6\n",
      "9\n"
     ]
    }
   ],
   "source": [
    "dfs_rec(matrix,visited,0,0,len(matrix),len(matrix[0]))"
   ]
  },
  {
   "cell_type": "markdown",
   "id": "c1083643",
   "metadata": {},
   "source": [
    "### Program trace:\n",
    "1,4,7 (we go all the way south, in node 7, we can't go south and we can't go north because it is already visited, so we can only go east) -> 8 (we can't go south, but we can go north) -> 5 (we can't go south, but we can go north).\n",
    "\n",
    "Correct sequence for now will be 1,4,7,8,5. which matches what my program shows"
   ]
  },
  {
   "cell_type": "markdown",
   "id": "a2da965e",
   "metadata": {},
   "source": [
    "### Iterative  DFS\n",
    "\n",
    "For this apporach, we need a stack to store our node."
   ]
  },
  {
   "cell_type": "code",
   "execution_count": 4,
   "id": "64cfc088",
   "metadata": {},
   "outputs": [],
   "source": [
    "def DFS_I(matrix,visited,r,c,ROW,COL):\n",
    "    stack = []\n",
    "    stack.append((r,c))\n",
    "    visited.add((r,c))\n",
    "    while stack:\n",
    "        #we have four directions, the direction order are same as recursive ones\n",
    "        directions = [[1,0],[-1,0],[0,1],[0,-1]]\n",
    "        \n",
    "        # pop last element.\n",
    "        current_r,current_c = stack.pop()\n",
    "        print(matrix[current_r][current_c])\n",
    "        \n",
    "        # we will visit 4 directions\n",
    "        for dr in directions:\n",
    "            new_r,new_c = current_r + dr[0], current_c + dr[1]\n",
    "            #make sure those index are within the range and not in visited\n",
    "            if new_r >= 0 and new_r < ROW and new_c >= 0 and new_c < COL and (new_r,new_c) not in visited:\n",
    "                stack.append((new_r,new_c))\n",
    "                visited.add((new_r,new_c))\n",
    "                "
   ]
  },
  {
   "cell_type": "markdown",
   "id": "41b0866f",
   "metadata": {},
   "source": [
    "For this program, we pop an element at the end of the list (stack) and add its neighbors to the stack, then we do the samething for its neigbor.\n",
    "<br>\n",
    "\n",
    "I also have a if statement in line 17 to make sure the node has not been visited and it is within the range.\n"
   ]
  },
  {
   "cell_type": "markdown",
   "id": "5360f7ea",
   "metadata": {},
   "source": [
    "We are also having a list called directions. For each node, it will add its neightbors from four different directions.(If they are valid)"
   ]
  },
  {
   "cell_type": "code",
   "execution_count": 5,
   "id": "f1c8ecf1",
   "metadata": {},
   "outputs": [],
   "source": [
    "visited = set()"
   ]
  },
  {
   "cell_type": "code",
   "execution_count": 6,
   "id": "f8ece799",
   "metadata": {},
   "outputs": [
    {
     "name": "stdout",
     "output_type": "stream",
     "text": [
      "1\n",
      "2\n",
      "3\n",
      "6\n",
      "9\n",
      "8\n",
      "7\n",
      "5\n",
      "4\n"
     ]
    }
   ],
   "source": [
    "DFS_I(matrix,visited,0,0,len(matrix),len(matrix[0]))"
   ]
  },
  {
   "cell_type": "markdown",
   "id": "8b616565",
   "metadata": {},
   "source": [
    "### Trace the program:\n",
    "\n",
    "##### before:\n",
    "stack = []\n",
    "visited = []\n",
    "\n",
    "##### after:\n",
    "stack = 0,0\n",
    "visited = (0,0)\n",
    "\n",
    "we know it has two valid neighbors, in this case, (0,1) and (1,0), we will enqueue these two nodes\n",
    "\n",
    "##### prints 1 in this case.\n",
    "----------------------------\n",
    "\n",
    "before:\n",
    "stack = (1,0),(0,1)\n",
    "visited = (0,0)\n",
    "\n",
    "we pop (0,1), and add its two valid neighbors (1,1), (0,2) to the stack\n",
    "\n",
    "\n",
    "stack = (1,0), (1,1), (0,2)\n",
    "visited = (0,0), (1,0)\n",
    "\n",
    "##### prints 2 in this case\n",
    "\n",
    "\n",
    "###### I will do one more iteration\n",
    "---------------------------------\n",
    "before:\n",
    "stack = (1,0), (1,1), (0,2)\n",
    "visited = (0,0), (1,0)\n",
    "\n",
    "we pop (0,2) and add its valid neighrbos, in this case only 1 which is (1,2)\n",
    "\n",
    "##### this prints 3.\n",
    "\n",
    "----------------------\n",
    "the next target will be (0,2)\n",
    "\n",
    "##### we should print 6\n",
    "\n",
    "\n",
    "1,2,3,6 for the first 4 iteration, and this match our output !\n",
    "\n",
    "------------------------\n",
    "\n"
   ]
  },
  {
   "cell_type": "markdown",
   "id": "8d2fb6e3",
   "metadata": {},
   "source": [
    "### BFS apporach:"
   ]
  },
  {
   "cell_type": "markdown",
   "id": "6d77508b",
   "metadata": {},
   "source": [
    "The reason why I use the above implementation for DFS is because I can change one line to make it a BFS apporach. \n",
    "<br>\n",
    "I learned this apporach while I was watching coding problems on Youtube. (This channel is called NeetCode, it is a very good channel to learn coding)"
   ]
  },
  {
   "cell_type": "code",
   "execution_count": 7,
   "id": "cdf2ed0b",
   "metadata": {},
   "outputs": [],
   "source": [
    "def BFS(matrix,visited,r,c,ROW,COL):\n",
    "    stack = []\n",
    "    stack.append((r,c))\n",
    "    visited.add((r,c))\n",
    "    while stack:\n",
    "        directions = [[1,0],[-1,0],[0,1],[0,-1]]\n",
    "        \n",
    "        # here is the change !!!!!!\n",
    "        current_r,current_c = stack.pop(0)\n",
    "        # here is the change !!!!!!!!\n",
    "        \n",
    "        print(matrix[current_r][current_c])\n",
    "        for dr in directions:\n",
    "            new_r,new_c = current_r + dr[0], current_c + dr[1]\n",
    "            if new_r >= 0 and new_r < ROW and new_c >= 0 and new_c < COL and (new_r,new_c) not in visited:\n",
    "                stack.append((new_r,new_c))\n",
    "                visited.add((new_r,new_c))"
   ]
  },
  {
   "cell_type": "markdown",
   "id": "d7ac918e",
   "metadata": {},
   "source": [
    "This is almost identical to DFS ! I only change this line <b>current_r,current_c = stack.pop()</b> to <b>current_r,current_c = stack.pop(0) </b>\n",
    "\n",
    "This make sense because all I did was change this <b>Stack</b> to <b>Queue</b> . And this is BFS."
   ]
  },
  {
   "cell_type": "code",
   "execution_count": 8,
   "id": "ec595c76",
   "metadata": {},
   "outputs": [
    {
     "name": "stdout",
     "output_type": "stream",
     "text": [
      "1\n",
      "4\n",
      "2\n",
      "7\n",
      "5\n",
      "3\n",
      "8\n",
      "6\n",
      "9\n"
     ]
    }
   ],
   "source": [
    "visited = set()\n",
    "BFS(matrix,visited,0,0,len(matrix),len(matrix[0]))"
   ]
  },
  {
   "cell_type": "markdown",
   "id": "85dc23ec",
   "metadata": {},
   "source": [
    "### Trace of program:\n",
    "\n",
    "\n",
    "before:\n",
    "queue = [] visited = []\n",
    "\n",
    "after:\n",
    "queue = 0,0 visited = (0,0)\n",
    "\n",
    "we know it has two valid neighbors, in this case, (0,1) and (1,0), we will enqueue these two nodes\n",
    "\n",
    "##### this prints 1\n",
    "--------------------------\n",
    "\n",
    "before: queue = (1,0),(0,1) visited = (0,0)\n",
    "\n",
    "we pop (1,0), and add its two valid neighbors (1,1) ,(2,0) to the queue\n",
    "\n",
    "queue = (0,1), (2,0), (1,1) visited = (0,0), (1,0)\n",
    "\n",
    "##### this prints 4.\n",
    "\n",
    "--------------------\n",
    "\n",
    "before:\n",
    "queue = (0,1), (2,0), (1,1) visited = (0,0), (1,0)\n",
    "\n",
    "we pop (0,1)  and adds its neighbor.\n",
    "\n",
    "\n",
    "##### this prints 2\n",
    "\n",
    "------------\n",
    "Then we should pop 2,0 next time and this will get us\n",
    "##### 7\n",
    "\n",
    "------\n",
    "\n",
    "1->4->2->7. so far...\n"
   ]
  },
  {
   "cell_type": "markdown",
   "id": "c4b4232b",
   "metadata": {},
   "source": [
    "### BFS Recursive ???\n",
    "\n",
    "You might be wondering, since there are two types of implementation for DFS, will there be a recursive implementation for BFS?\n",
    "<br>\n",
    "\n",
    "The answer is yes ! But it is not intuitive to understand or code it, so I will not implement it."
   ]
  },
  {
   "cell_type": "markdown",
   "id": "631723d5",
   "metadata": {},
   "source": [
    "### AI meme\n",
    "<img src =\"ai_meme.png\" style = \"width:700px; height:400px\" >"
   ]
  },
  {
   "cell_type": "markdown",
   "id": "6936a19d",
   "metadata": {},
   "source": [
    "### Conclusion:\n",
    "\n",
    "That is it for the implementation of DFS and BFS. Note that there will be a lot different implmentations for these search algorithms. "
   ]
  },
  {
   "cell_type": "code",
   "execution_count": null,
   "id": "c8447f93",
   "metadata": {},
   "outputs": [],
   "source": []
  }
 ],
 "metadata": {
  "kernelspec": {
   "display_name": "Python 3",
   "language": "python",
   "name": "python3"
  },
  "language_info": {
   "codemirror_mode": {
    "name": "ipython",
    "version": 3
   },
   "file_extension": ".py",
   "mimetype": "text/x-python",
   "name": "python",
   "nbconvert_exporter": "python",
   "pygments_lexer": "ipython3",
   "version": "3.9.5"
  }
 },
 "nbformat": 4,
 "nbformat_minor": 5
}
